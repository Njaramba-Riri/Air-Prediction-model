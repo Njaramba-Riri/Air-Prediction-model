{
 "cells": [
  {
   "cell_type": "code",
   "execution_count": 1,
   "metadata": {},
   "outputs": [],
   "source": [
    "import pyforest\n",
    "\n",
    "import catboost as catt\n",
    "import lightgbm as lgb\n",
    "import xgboost as xgb\n",
    "\n",
    "\n",
    "from sklearn.metrics import mean_squared_error\n",
    "from sklearn.model_selection import train_test_split, KFold\n",
    "\n",
    "import warnings\n",
    "warnings.filterwarnings(\"ignore\")"
   ]
  },
  {
   "cell_type": "code",
   "execution_count": 3,
   "metadata": {},
   "outputs": [
    {
     "data": {
      "application/javascript": "\n        if (window._pyforest_update_imports_cell) { window._pyforest_update_imports_cell('import pandas as pd'); }\n    ",
      "text/plain": [
       "<IPython.core.display.Javascript object>"
      ]
     },
     "metadata": {},
     "output_type": "display_data"
    },
    {
     "data": {
      "application/javascript": "\n        if (window._pyforest_update_imports_cell) { window._pyforest_update_imports_cell('import pandas as pd'); }\n    ",
      "text/plain": [
       "<IPython.core.display.Javascript object>"
      ]
     },
     "metadata": {},
     "output_type": "display_data"
    },
    {
     "data": {
      "text/html": [
       "<div>\n",
       "<style scoped>\n",
       "    .dataframe tbody tr th:only-of-type {\n",
       "        vertical-align: middle;\n",
       "    }\n",
       "\n",
       "    .dataframe tbody tr th {\n",
       "        vertical-align: top;\n",
       "    }\n",
       "\n",
       "    .dataframe thead th {\n",
       "        text-align: right;\n",
       "    }\n",
       "</style>\n",
       "<table border=\"1\" class=\"dataframe\">\n",
       "  <thead>\n",
       "    <tr style=\"text-align: right;\">\n",
       "      <th></th>\n",
       "      <th>Place_ID X Date</th>\n",
       "      <th>Date</th>\n",
       "      <th>Place_ID</th>\n",
       "      <th>target</th>\n",
       "      <th>target_min</th>\n",
       "      <th>target_max</th>\n",
       "      <th>target_variance</th>\n",
       "      <th>target_count</th>\n",
       "      <th>precipitable_water_entire_atmosphere</th>\n",
       "      <th>relative_humidity_2m_above_ground</th>\n",
       "      <th>...</th>\n",
       "      <th>L3_SO2_sensor_zenith_angle</th>\n",
       "      <th>L3_SO2_solar_azimuth_angle</th>\n",
       "      <th>L3_SO2_solar_zenith_angle</th>\n",
       "      <th>L3_CH4_CH4_column_volume_mixing_ratio_dry_air</th>\n",
       "      <th>L3_CH4_aerosol_height</th>\n",
       "      <th>L3_CH4_aerosol_optical_depth</th>\n",
       "      <th>L3_CH4_sensor_azimuth_angle</th>\n",
       "      <th>L3_CH4_sensor_zenith_angle</th>\n",
       "      <th>L3_CH4_solar_azimuth_angle</th>\n",
       "      <th>L3_CH4_solar_zenith_angle</th>\n",
       "    </tr>\n",
       "  </thead>\n",
       "  <tbody>\n",
       "    <tr>\n",
       "      <th>0</th>\n",
       "      <td>010Q650 X 2020-01-02</td>\n",
       "      <td>2020-01-02</td>\n",
       "      <td>010Q650</td>\n",
       "      <td>38.0</td>\n",
       "      <td>23.0</td>\n",
       "      <td>53.0</td>\n",
       "      <td>769.50</td>\n",
       "      <td>92</td>\n",
       "      <td>11.000000</td>\n",
       "      <td>60.200001</td>\n",
       "      <td>...</td>\n",
       "      <td>38.593017</td>\n",
       "      <td>-61.752587</td>\n",
       "      <td>22.363665</td>\n",
       "      <td>1793.793579</td>\n",
       "      <td>3227.855469</td>\n",
       "      <td>0.010579</td>\n",
       "      <td>74.481049</td>\n",
       "      <td>37.501499</td>\n",
       "      <td>-62.142639</td>\n",
       "      <td>22.545118</td>\n",
       "    </tr>\n",
       "    <tr>\n",
       "      <th>1</th>\n",
       "      <td>010Q650 X 2020-01-03</td>\n",
       "      <td>2020-01-03</td>\n",
       "      <td>010Q650</td>\n",
       "      <td>39.0</td>\n",
       "      <td>25.0</td>\n",
       "      <td>63.0</td>\n",
       "      <td>1319.85</td>\n",
       "      <td>91</td>\n",
       "      <td>14.600000</td>\n",
       "      <td>48.799999</td>\n",
       "      <td>...</td>\n",
       "      <td>59.624912</td>\n",
       "      <td>-67.693509</td>\n",
       "      <td>28.614804</td>\n",
       "      <td>1789.960449</td>\n",
       "      <td>3384.226562</td>\n",
       "      <td>0.015104</td>\n",
       "      <td>75.630043</td>\n",
       "      <td>55.657486</td>\n",
       "      <td>-53.868134</td>\n",
       "      <td>19.293652</td>\n",
       "    </tr>\n",
       "    <tr>\n",
       "      <th>2</th>\n",
       "      <td>010Q650 X 2020-01-04</td>\n",
       "      <td>2020-01-04</td>\n",
       "      <td>010Q650</td>\n",
       "      <td>24.0</td>\n",
       "      <td>8.0</td>\n",
       "      <td>56.0</td>\n",
       "      <td>1181.96</td>\n",
       "      <td>96</td>\n",
       "      <td>16.400000</td>\n",
       "      <td>33.400002</td>\n",
       "      <td>...</td>\n",
       "      <td>49.839714</td>\n",
       "      <td>-78.342701</td>\n",
       "      <td>34.296977</td>\n",
       "      <td>NaN</td>\n",
       "      <td>NaN</td>\n",
       "      <td>NaN</td>\n",
       "      <td>NaN</td>\n",
       "      <td>NaN</td>\n",
       "      <td>NaN</td>\n",
       "      <td>NaN</td>\n",
       "    </tr>\n",
       "    <tr>\n",
       "      <th>3</th>\n",
       "      <td>010Q650 X 2020-01-05</td>\n",
       "      <td>2020-01-05</td>\n",
       "      <td>010Q650</td>\n",
       "      <td>49.0</td>\n",
       "      <td>10.0</td>\n",
       "      <td>55.0</td>\n",
       "      <td>1113.67</td>\n",
       "      <td>96</td>\n",
       "      <td>6.911948</td>\n",
       "      <td>21.300001</td>\n",
       "      <td>...</td>\n",
       "      <td>29.181258</td>\n",
       "      <td>-73.896588</td>\n",
       "      <td>30.545446</td>\n",
       "      <td>NaN</td>\n",
       "      <td>NaN</td>\n",
       "      <td>NaN</td>\n",
       "      <td>NaN</td>\n",
       "      <td>NaN</td>\n",
       "      <td>NaN</td>\n",
       "      <td>NaN</td>\n",
       "    </tr>\n",
       "    <tr>\n",
       "      <th>4</th>\n",
       "      <td>010Q650 X 2020-01-06</td>\n",
       "      <td>2020-01-06</td>\n",
       "      <td>010Q650</td>\n",
       "      <td>21.0</td>\n",
       "      <td>9.0</td>\n",
       "      <td>52.0</td>\n",
       "      <td>1164.82</td>\n",
       "      <td>95</td>\n",
       "      <td>13.900001</td>\n",
       "      <td>44.700001</td>\n",
       "      <td>...</td>\n",
       "      <td>0.797294</td>\n",
       "      <td>-68.612480</td>\n",
       "      <td>26.899694</td>\n",
       "      <td>NaN</td>\n",
       "      <td>NaN</td>\n",
       "      <td>NaN</td>\n",
       "      <td>NaN</td>\n",
       "      <td>NaN</td>\n",
       "      <td>NaN</td>\n",
       "      <td>NaN</td>\n",
       "    </tr>\n",
       "  </tbody>\n",
       "</table>\n",
       "<p>5 rows × 82 columns</p>\n",
       "</div>"
      ],
      "text/plain": [
       "        Place_ID X Date       Date Place_ID  target  target_min  target_max  \\\n",
       "0  010Q650 X 2020-01-02 2020-01-02  010Q650    38.0        23.0        53.0   \n",
       "1  010Q650 X 2020-01-03 2020-01-03  010Q650    39.0        25.0        63.0   \n",
       "2  010Q650 X 2020-01-04 2020-01-04  010Q650    24.0         8.0        56.0   \n",
       "3  010Q650 X 2020-01-05 2020-01-05  010Q650    49.0        10.0        55.0   \n",
       "4  010Q650 X 2020-01-06 2020-01-06  010Q650    21.0         9.0        52.0   \n",
       "\n",
       "   target_variance  target_count  precipitable_water_entire_atmosphere  \\\n",
       "0           769.50            92                             11.000000   \n",
       "1          1319.85            91                             14.600000   \n",
       "2          1181.96            96                             16.400000   \n",
       "3          1113.67            96                              6.911948   \n",
       "4          1164.82            95                             13.900001   \n",
       "\n",
       "   relative_humidity_2m_above_ground  ...  L3_SO2_sensor_zenith_angle  \\\n",
       "0                          60.200001  ...                   38.593017   \n",
       "1                          48.799999  ...                   59.624912   \n",
       "2                          33.400002  ...                   49.839714   \n",
       "3                          21.300001  ...                   29.181258   \n",
       "4                          44.700001  ...                    0.797294   \n",
       "\n",
       "   L3_SO2_solar_azimuth_angle  L3_SO2_solar_zenith_angle  \\\n",
       "0                  -61.752587                  22.363665   \n",
       "1                  -67.693509                  28.614804   \n",
       "2                  -78.342701                  34.296977   \n",
       "3                  -73.896588                  30.545446   \n",
       "4                  -68.612480                  26.899694   \n",
       "\n",
       "   L3_CH4_CH4_column_volume_mixing_ratio_dry_air  L3_CH4_aerosol_height  \\\n",
       "0                                    1793.793579            3227.855469   \n",
       "1                                    1789.960449            3384.226562   \n",
       "2                                            NaN                    NaN   \n",
       "3                                            NaN                    NaN   \n",
       "4                                            NaN                    NaN   \n",
       "\n",
       "   L3_CH4_aerosol_optical_depth  L3_CH4_sensor_azimuth_angle  \\\n",
       "0                      0.010579                    74.481049   \n",
       "1                      0.015104                    75.630043   \n",
       "2                           NaN                          NaN   \n",
       "3                           NaN                          NaN   \n",
       "4                           NaN                          NaN   \n",
       "\n",
       "   L3_CH4_sensor_zenith_angle  L3_CH4_solar_azimuth_angle  \\\n",
       "0                   37.501499                  -62.142639   \n",
       "1                   55.657486                  -53.868134   \n",
       "2                         NaN                         NaN   \n",
       "3                         NaN                         NaN   \n",
       "4                         NaN                         NaN   \n",
       "\n",
       "   L3_CH4_solar_zenith_angle  \n",
       "0                  22.545118  \n",
       "1                  19.293652  \n",
       "2                        NaN  \n",
       "3                        NaN  \n",
       "4                        NaN  \n",
       "\n",
       "[5 rows x 82 columns]"
      ]
     },
     "metadata": {},
     "output_type": "display_data"
    }
   ],
   "source": [
    "train=pd.read_csv('Datasets/Train.csv', parse_dates=['Date'])\n",
    "test=pd.read_csv('Datasets/Test.csv', parse_dates=['Date'])\n",
    "\n",
    "display(train.head())"
   ]
  },
  {
   "cell_type": "code",
   "execution_count": 4,
   "metadata": {},
   "outputs": [
    {
     "data": {
      "text/html": [
       "<div>\n",
       "<style scoped>\n",
       "    .dataframe tbody tr th:only-of-type {\n",
       "        vertical-align: middle;\n",
       "    }\n",
       "\n",
       "    .dataframe tbody tr th {\n",
       "        vertical-align: top;\n",
       "    }\n",
       "\n",
       "    .dataframe thead th {\n",
       "        text-align: right;\n",
       "    }\n",
       "</style>\n",
       "<table border=\"1\" class=\"dataframe\">\n",
       "  <thead>\n",
       "    <tr style=\"text-align: right;\">\n",
       "      <th></th>\n",
       "      <th>Place_ID X Date</th>\n",
       "      <th>Date</th>\n",
       "      <th>Place_ID</th>\n",
       "      <th>precipitable_water_entire_atmosphere</th>\n",
       "      <th>relative_humidity_2m_above_ground</th>\n",
       "      <th>specific_humidity_2m_above_ground</th>\n",
       "      <th>temperature_2m_above_ground</th>\n",
       "      <th>u_component_of_wind_10m_above_ground</th>\n",
       "      <th>v_component_of_wind_10m_above_ground</th>\n",
       "      <th>L3_NO2_NO2_column_number_density</th>\n",
       "      <th>...</th>\n",
       "      <th>L3_SO2_sensor_zenith_angle</th>\n",
       "      <th>L3_SO2_solar_azimuth_angle</th>\n",
       "      <th>L3_SO2_solar_zenith_angle</th>\n",
       "      <th>L3_CH4_CH4_column_volume_mixing_ratio_dry_air</th>\n",
       "      <th>L3_CH4_aerosol_height</th>\n",
       "      <th>L3_CH4_aerosol_optical_depth</th>\n",
       "      <th>L3_CH4_sensor_azimuth_angle</th>\n",
       "      <th>L3_CH4_sensor_zenith_angle</th>\n",
       "      <th>L3_CH4_solar_azimuth_angle</th>\n",
       "      <th>L3_CH4_solar_zenith_angle</th>\n",
       "    </tr>\n",
       "  </thead>\n",
       "  <tbody>\n",
       "    <tr>\n",
       "      <th>0</th>\n",
       "      <td>0OS9LVX X 2020-01-02</td>\n",
       "      <td>2020-01-02</td>\n",
       "      <td>0OS9LVX</td>\n",
       "      <td>11.600000</td>\n",
       "      <td>30.200001</td>\n",
       "      <td>0.00409</td>\n",
       "      <td>14.656824</td>\n",
       "      <td>3.956377</td>\n",
       "      <td>0.712605</td>\n",
       "      <td>0.000053</td>\n",
       "      <td>...</td>\n",
       "      <td>1.445658</td>\n",
       "      <td>-95.984984</td>\n",
       "      <td>22.942019</td>\n",
       "      <td>NaN</td>\n",
       "      <td>NaN</td>\n",
       "      <td>NaN</td>\n",
       "      <td>NaN</td>\n",
       "      <td>NaN</td>\n",
       "      <td>NaN</td>\n",
       "      <td>NaN</td>\n",
       "    </tr>\n",
       "    <tr>\n",
       "      <th>1</th>\n",
       "      <td>0OS9LVX X 2020-01-03</td>\n",
       "      <td>2020-01-03</td>\n",
       "      <td>0OS9LVX</td>\n",
       "      <td>18.300001</td>\n",
       "      <td>42.900002</td>\n",
       "      <td>0.00595</td>\n",
       "      <td>15.026544</td>\n",
       "      <td>4.230430</td>\n",
       "      <td>0.661892</td>\n",
       "      <td>0.000050</td>\n",
       "      <td>...</td>\n",
       "      <td>34.641758</td>\n",
       "      <td>-95.014908</td>\n",
       "      <td>18.539116</td>\n",
       "      <td>NaN</td>\n",
       "      <td>NaN</td>\n",
       "      <td>NaN</td>\n",
       "      <td>NaN</td>\n",
       "      <td>NaN</td>\n",
       "      <td>NaN</td>\n",
       "      <td>NaN</td>\n",
       "    </tr>\n",
       "    <tr>\n",
       "      <th>2</th>\n",
       "      <td>0OS9LVX X 2020-01-04</td>\n",
       "      <td>2020-01-04</td>\n",
       "      <td>0OS9LVX</td>\n",
       "      <td>17.600000</td>\n",
       "      <td>41.299999</td>\n",
       "      <td>0.00590</td>\n",
       "      <td>15.511041</td>\n",
       "      <td>5.245728</td>\n",
       "      <td>1.640559</td>\n",
       "      <td>0.000050</td>\n",
       "      <td>...</td>\n",
       "      <td>55.872276</td>\n",
       "      <td>-94.015418</td>\n",
       "      <td>14.140820</td>\n",
       "      <td>NaN</td>\n",
       "      <td>NaN</td>\n",
       "      <td>NaN</td>\n",
       "      <td>NaN</td>\n",
       "      <td>NaN</td>\n",
       "      <td>NaN</td>\n",
       "      <td>NaN</td>\n",
       "    </tr>\n",
       "    <tr>\n",
       "      <th>3</th>\n",
       "      <td>0OS9LVX X 2020-01-05</td>\n",
       "      <td>2020-01-05</td>\n",
       "      <td>0OS9LVX</td>\n",
       "      <td>15.011948</td>\n",
       "      <td>53.100002</td>\n",
       "      <td>0.00709</td>\n",
       "      <td>14.441858</td>\n",
       "      <td>5.454001</td>\n",
       "      <td>-0.190532</td>\n",
       "      <td>0.000055</td>\n",
       "      <td>...</td>\n",
       "      <td>59.174188</td>\n",
       "      <td>-97.247602</td>\n",
       "      <td>32.730553</td>\n",
       "      <td>NaN</td>\n",
       "      <td>NaN</td>\n",
       "      <td>NaN</td>\n",
       "      <td>NaN</td>\n",
       "      <td>NaN</td>\n",
       "      <td>NaN</td>\n",
       "      <td>NaN</td>\n",
       "    </tr>\n",
       "    <tr>\n",
       "      <th>4</th>\n",
       "      <td>0OS9LVX X 2020-01-06</td>\n",
       "      <td>2020-01-06</td>\n",
       "      <td>0OS9LVX</td>\n",
       "      <td>9.700000</td>\n",
       "      <td>71.599998</td>\n",
       "      <td>0.00808</td>\n",
       "      <td>11.896295</td>\n",
       "      <td>3.511787</td>\n",
       "      <td>-0.279441</td>\n",
       "      <td>0.000055</td>\n",
       "      <td>...</td>\n",
       "      <td>40.925873</td>\n",
       "      <td>-96.057265</td>\n",
       "      <td>28.320527</td>\n",
       "      <td>1831.261597</td>\n",
       "      <td>3229.118652</td>\n",
       "      <td>0.031068</td>\n",
       "      <td>-100.278343</td>\n",
       "      <td>41.84708</td>\n",
       "      <td>-95.910744</td>\n",
       "      <td>28.498789</td>\n",
       "    </tr>\n",
       "  </tbody>\n",
       "</table>\n",
       "<p>5 rows × 77 columns</p>\n",
       "</div>"
      ],
      "text/plain": [
       "        Place_ID X Date       Date Place_ID  \\\n",
       "0  0OS9LVX X 2020-01-02 2020-01-02  0OS9LVX   \n",
       "1  0OS9LVX X 2020-01-03 2020-01-03  0OS9LVX   \n",
       "2  0OS9LVX X 2020-01-04 2020-01-04  0OS9LVX   \n",
       "3  0OS9LVX X 2020-01-05 2020-01-05  0OS9LVX   \n",
       "4  0OS9LVX X 2020-01-06 2020-01-06  0OS9LVX   \n",
       "\n",
       "   precipitable_water_entire_atmosphere  relative_humidity_2m_above_ground  \\\n",
       "0                             11.600000                          30.200001   \n",
       "1                             18.300001                          42.900002   \n",
       "2                             17.600000                          41.299999   \n",
       "3                             15.011948                          53.100002   \n",
       "4                              9.700000                          71.599998   \n",
       "\n",
       "   specific_humidity_2m_above_ground  temperature_2m_above_ground  \\\n",
       "0                            0.00409                    14.656824   \n",
       "1                            0.00595                    15.026544   \n",
       "2                            0.00590                    15.511041   \n",
       "3                            0.00709                    14.441858   \n",
       "4                            0.00808                    11.896295   \n",
       "\n",
       "   u_component_of_wind_10m_above_ground  v_component_of_wind_10m_above_ground  \\\n",
       "0                              3.956377                              0.712605   \n",
       "1                              4.230430                              0.661892   \n",
       "2                              5.245728                              1.640559   \n",
       "3                              5.454001                             -0.190532   \n",
       "4                              3.511787                             -0.279441   \n",
       "\n",
       "   L3_NO2_NO2_column_number_density  ...  L3_SO2_sensor_zenith_angle  \\\n",
       "0                          0.000053  ...                    1.445658   \n",
       "1                          0.000050  ...                   34.641758   \n",
       "2                          0.000050  ...                   55.872276   \n",
       "3                          0.000055  ...                   59.174188   \n",
       "4                          0.000055  ...                   40.925873   \n",
       "\n",
       "   L3_SO2_solar_azimuth_angle  L3_SO2_solar_zenith_angle  \\\n",
       "0                  -95.984984                  22.942019   \n",
       "1                  -95.014908                  18.539116   \n",
       "2                  -94.015418                  14.140820   \n",
       "3                  -97.247602                  32.730553   \n",
       "4                  -96.057265                  28.320527   \n",
       "\n",
       "   L3_CH4_CH4_column_volume_mixing_ratio_dry_air  L3_CH4_aerosol_height  \\\n",
       "0                                            NaN                    NaN   \n",
       "1                                            NaN                    NaN   \n",
       "2                                            NaN                    NaN   \n",
       "3                                            NaN                    NaN   \n",
       "4                                    1831.261597            3229.118652   \n",
       "\n",
       "   L3_CH4_aerosol_optical_depth  L3_CH4_sensor_azimuth_angle  \\\n",
       "0                           NaN                          NaN   \n",
       "1                           NaN                          NaN   \n",
       "2                           NaN                          NaN   \n",
       "3                           NaN                          NaN   \n",
       "4                      0.031068                  -100.278343   \n",
       "\n",
       "   L3_CH4_sensor_zenith_angle  L3_CH4_solar_azimuth_angle  \\\n",
       "0                         NaN                         NaN   \n",
       "1                         NaN                         NaN   \n",
       "2                         NaN                         NaN   \n",
       "3                         NaN                         NaN   \n",
       "4                    41.84708                  -95.910744   \n",
       "\n",
       "   L3_CH4_solar_zenith_angle  \n",
       "0                        NaN  \n",
       "1                        NaN  \n",
       "2                        NaN  \n",
       "3                        NaN  \n",
       "4                  28.498789  \n",
       "\n",
       "[5 rows x 77 columns]"
      ]
     },
     "execution_count": 4,
     "metadata": {},
     "output_type": "execute_result"
    }
   ],
   "source": [
    "test.head()"
   ]
  },
  {
   "cell_type": "code",
   "execution_count": 5,
   "metadata": {},
   "outputs": [
    {
     "data": {
      "text/plain": [
       "((30557, 82), (16136, 77))"
      ]
     },
     "execution_count": 5,
     "metadata": {},
     "output_type": "execute_result"
    }
   ],
   "source": [
    "train.shape, test.shape"
   ]
  },
  {
   "cell_type": "code",
   "execution_count": 6,
   "metadata": {},
   "outputs": [
    {
     "name": "stdout",
     "output_type": "stream",
     "text": [
      "The shape before dropping was: (30557, 82)\n",
      "The shape after dropping is: (30557, 78)\n"
     ]
    }
   ],
   "source": [
    "drop_columns=['target_min','target_max','target_variance','target_count']\n",
    "print(\"The shape before dropping was:\", train.shape)\n",
    "train=train.drop(columns=drop_columns)\n",
    "print(\"The shape after dropping is:\", train.shape)"
   ]
  },
  {
   "attachments": {},
   "cell_type": "markdown",
   "metadata": {},
   "source": [
    "Sorting the data based on the date\n"
   ]
  },
  {
   "cell_type": "code",
   "execution_count": 7,
   "metadata": {},
   "outputs": [],
   "source": [
    "train=train.sort_values(by=['Date']).reset_index(drop=True)\n",
    "test=test.sort_values(by=['Date']).reset_index(drop=True)"
   ]
  },
  {
   "cell_type": "code",
   "execution_count": 8,
   "metadata": {},
   "outputs": [
    {
     "data": {
      "text/html": [
       "<div>\n",
       "<style scoped>\n",
       "    .dataframe tbody tr th:only-of-type {\n",
       "        vertical-align: middle;\n",
       "    }\n",
       "\n",
       "    .dataframe tbody tr th {\n",
       "        vertical-align: top;\n",
       "    }\n",
       "\n",
       "    .dataframe thead th {\n",
       "        text-align: right;\n",
       "    }\n",
       "</style>\n",
       "<table border=\"1\" class=\"dataframe\">\n",
       "  <thead>\n",
       "    <tr style=\"text-align: right;\">\n",
       "      <th></th>\n",
       "      <th>Place_ID X Date</th>\n",
       "      <th>Date</th>\n",
       "      <th>Place_ID</th>\n",
       "      <th>target</th>\n",
       "      <th>precipitable_water_entire_atmosphere</th>\n",
       "      <th>relative_humidity_2m_above_ground</th>\n",
       "      <th>specific_humidity_2m_above_ground</th>\n",
       "      <th>temperature_2m_above_ground</th>\n",
       "      <th>u_component_of_wind_10m_above_ground</th>\n",
       "      <th>v_component_of_wind_10m_above_ground</th>\n",
       "      <th>...</th>\n",
       "      <th>L3_SO2_sensor_zenith_angle</th>\n",
       "      <th>L3_SO2_solar_azimuth_angle</th>\n",
       "      <th>L3_SO2_solar_zenith_angle</th>\n",
       "      <th>L3_CH4_CH4_column_volume_mixing_ratio_dry_air</th>\n",
       "      <th>L3_CH4_aerosol_height</th>\n",
       "      <th>L3_CH4_aerosol_optical_depth</th>\n",
       "      <th>L3_CH4_sensor_azimuth_angle</th>\n",
       "      <th>L3_CH4_sensor_zenith_angle</th>\n",
       "      <th>L3_CH4_solar_azimuth_angle</th>\n",
       "      <th>L3_CH4_solar_zenith_angle</th>\n",
       "    </tr>\n",
       "  </thead>\n",
       "  <tbody>\n",
       "    <tr>\n",
       "      <th>0</th>\n",
       "      <td>010Q650 X 2020-01-02</td>\n",
       "      <td>2020-01-02</td>\n",
       "      <td>010Q650</td>\n",
       "      <td>38.0</td>\n",
       "      <td>11.000000</td>\n",
       "      <td>60.200001</td>\n",
       "      <td>0.008040</td>\n",
       "      <td>18.516840</td>\n",
       "      <td>1.996377</td>\n",
       "      <td>-1.227395</td>\n",
       "      <td>...</td>\n",
       "      <td>38.593017</td>\n",
       "      <td>-61.752587</td>\n",
       "      <td>22.363665</td>\n",
       "      <td>1793.793579</td>\n",
       "      <td>3227.855469</td>\n",
       "      <td>0.010579</td>\n",
       "      <td>74.481049</td>\n",
       "      <td>37.501499</td>\n",
       "      <td>-62.142639</td>\n",
       "      <td>22.545118</td>\n",
       "    </tr>\n",
       "    <tr>\n",
       "      <th>1</th>\n",
       "      <td>R8CIARR X 2020-01-02</td>\n",
       "      <td>2020-01-02</td>\n",
       "      <td>R8CIARR</td>\n",
       "      <td>210.0</td>\n",
       "      <td>7.600000</td>\n",
       "      <td>92.900002</td>\n",
       "      <td>0.003340</td>\n",
       "      <td>-0.923163</td>\n",
       "      <td>1.186377</td>\n",
       "      <td>0.442605</td>\n",
       "      <td>...</td>\n",
       "      <td>17.114866</td>\n",
       "      <td>-164.471834</td>\n",
       "      <td>68.996603</td>\n",
       "      <td>1838.009277</td>\n",
       "      <td>3136.416992</td>\n",
       "      <td>0.007221</td>\n",
       "      <td>-98.006920</td>\n",
       "      <td>18.329800</td>\n",
       "      <td>-164.326263</td>\n",
       "      <td>69.203545</td>\n",
       "    </tr>\n",
       "    <tr>\n",
       "      <th>2</th>\n",
       "      <td>1X421B8 X 2020-01-02</td>\n",
       "      <td>2020-01-02</td>\n",
       "      <td>1X421B8</td>\n",
       "      <td>69.0</td>\n",
       "      <td>30.350000</td>\n",
       "      <td>97.450001</td>\n",
       "      <td>0.014210</td>\n",
       "      <td>18.806818</td>\n",
       "      <td>-0.948623</td>\n",
       "      <td>-0.937395</td>\n",
       "      <td>...</td>\n",
       "      <td>9.270202</td>\n",
       "      <td>-150.037324</td>\n",
       "      <td>40.684037</td>\n",
       "      <td>NaN</td>\n",
       "      <td>NaN</td>\n",
       "      <td>NaN</td>\n",
       "      <td>NaN</td>\n",
       "      <td>NaN</td>\n",
       "      <td>NaN</td>\n",
       "      <td>NaN</td>\n",
       "    </tr>\n",
       "    <tr>\n",
       "      <th>3</th>\n",
       "      <td>D1OBVR6 X 2020-01-02</td>\n",
       "      <td>2020-01-02</td>\n",
       "      <td>D1OBVR6</td>\n",
       "      <td>33.0</td>\n",
       "      <td>24.733333</td>\n",
       "      <td>49.883334</td>\n",
       "      <td>0.008353</td>\n",
       "      <td>19.320164</td>\n",
       "      <td>0.799710</td>\n",
       "      <td>3.212605</td>\n",
       "      <td>...</td>\n",
       "      <td>5.505470</td>\n",
       "      <td>-156.125827</td>\n",
       "      <td>47.288412</td>\n",
       "      <td>NaN</td>\n",
       "      <td>NaN</td>\n",
       "      <td>NaN</td>\n",
       "      <td>NaN</td>\n",
       "      <td>NaN</td>\n",
       "      <td>NaN</td>\n",
       "      <td>NaN</td>\n",
       "    </tr>\n",
       "    <tr>\n",
       "      <th>4</th>\n",
       "      <td>R0N919B X 2020-01-02</td>\n",
       "      <td>2020-01-02</td>\n",
       "      <td>R0N919B</td>\n",
       "      <td>57.0</td>\n",
       "      <td>27.760000</td>\n",
       "      <td>52.140000</td>\n",
       "      <td>0.008930</td>\n",
       "      <td>22.560834</td>\n",
       "      <td>-1.481623</td>\n",
       "      <td>-1.181395</td>\n",
       "      <td>...</td>\n",
       "      <td>35.838265</td>\n",
       "      <td>-67.567808</td>\n",
       "      <td>36.387296</td>\n",
       "      <td>NaN</td>\n",
       "      <td>NaN</td>\n",
       "      <td>NaN</td>\n",
       "      <td>NaN</td>\n",
       "      <td>NaN</td>\n",
       "      <td>NaN</td>\n",
       "      <td>NaN</td>\n",
       "    </tr>\n",
       "  </tbody>\n",
       "</table>\n",
       "<p>5 rows × 78 columns</p>\n",
       "</div>"
      ],
      "text/plain": [
       "        Place_ID X Date       Date Place_ID  target  \\\n",
       "0  010Q650 X 2020-01-02 2020-01-02  010Q650    38.0   \n",
       "1  R8CIARR X 2020-01-02 2020-01-02  R8CIARR   210.0   \n",
       "2  1X421B8 X 2020-01-02 2020-01-02  1X421B8    69.0   \n",
       "3  D1OBVR6 X 2020-01-02 2020-01-02  D1OBVR6    33.0   \n",
       "4  R0N919B X 2020-01-02 2020-01-02  R0N919B    57.0   \n",
       "\n",
       "   precipitable_water_entire_atmosphere  relative_humidity_2m_above_ground  \\\n",
       "0                             11.000000                          60.200001   \n",
       "1                              7.600000                          92.900002   \n",
       "2                             30.350000                          97.450001   \n",
       "3                             24.733333                          49.883334   \n",
       "4                             27.760000                          52.140000   \n",
       "\n",
       "   specific_humidity_2m_above_ground  temperature_2m_above_ground  \\\n",
       "0                           0.008040                    18.516840   \n",
       "1                           0.003340                    -0.923163   \n",
       "2                           0.014210                    18.806818   \n",
       "3                           0.008353                    19.320164   \n",
       "4                           0.008930                    22.560834   \n",
       "\n",
       "   u_component_of_wind_10m_above_ground  v_component_of_wind_10m_above_ground  \\\n",
       "0                              1.996377                             -1.227395   \n",
       "1                              1.186377                              0.442605   \n",
       "2                             -0.948623                             -0.937395   \n",
       "3                              0.799710                              3.212605   \n",
       "4                             -1.481623                             -1.181395   \n",
       "\n",
       "   ...  L3_SO2_sensor_zenith_angle  L3_SO2_solar_azimuth_angle  \\\n",
       "0  ...                   38.593017                  -61.752587   \n",
       "1  ...                   17.114866                 -164.471834   \n",
       "2  ...                    9.270202                 -150.037324   \n",
       "3  ...                    5.505470                 -156.125827   \n",
       "4  ...                   35.838265                  -67.567808   \n",
       "\n",
       "   L3_SO2_solar_zenith_angle  L3_CH4_CH4_column_volume_mixing_ratio_dry_air  \\\n",
       "0                  22.363665                                    1793.793579   \n",
       "1                  68.996603                                    1838.009277   \n",
       "2                  40.684037                                            NaN   \n",
       "3                  47.288412                                            NaN   \n",
       "4                  36.387296                                            NaN   \n",
       "\n",
       "   L3_CH4_aerosol_height  L3_CH4_aerosol_optical_depth  \\\n",
       "0            3227.855469                      0.010579   \n",
       "1            3136.416992                      0.007221   \n",
       "2                    NaN                           NaN   \n",
       "3                    NaN                           NaN   \n",
       "4                    NaN                           NaN   \n",
       "\n",
       "   L3_CH4_sensor_azimuth_angle  L3_CH4_sensor_zenith_angle  \\\n",
       "0                    74.481049                   37.501499   \n",
       "1                   -98.006920                   18.329800   \n",
       "2                          NaN                         NaN   \n",
       "3                          NaN                         NaN   \n",
       "4                          NaN                         NaN   \n",
       "\n",
       "   L3_CH4_solar_azimuth_angle  L3_CH4_solar_zenith_angle  \n",
       "0                  -62.142639                  22.545118  \n",
       "1                 -164.326263                  69.203545  \n",
       "2                         NaN                        NaN  \n",
       "3                         NaN                        NaN  \n",
       "4                         NaN                        NaN  \n",
       "\n",
       "[5 rows x 78 columns]"
      ]
     },
     "execution_count": 8,
     "metadata": {},
     "output_type": "execute_result"
    }
   ],
   "source": [
    "train.head()"
   ]
  },
  {
   "cell_type": "code",
   "execution_count": 9,
   "metadata": {},
   "outputs": [
    {
     "data": {
      "text/plain": [
       "(Timestamp('2020-04-04 00:00:00'), Timestamp('2020-01-02 00:00:00'))"
      ]
     },
     "execution_count": 9,
     "metadata": {},
     "output_type": "execute_result"
    }
   ],
   "source": [
    "train.Date.max(), train.Date.min()"
   ]
  },
  {
   "cell_type": "code",
   "execution_count": 10,
   "metadata": {},
   "outputs": [
    {
     "data": {
      "text/plain": [
       "(Timestamp('2020-04-04 00:00:00'), Timestamp('2020-01-02 00:00:00'))"
      ]
     },
     "execution_count": 10,
     "metadata": {},
     "output_type": "execute_result"
    }
   ],
   "source": [
    "test.Date.max(), test.Date.min()"
   ]
  },
  {
   "attachments": {},
   "cell_type": "markdown",
   "metadata": {},
   "source": [
    "Data description and info"
   ]
  },
  {
   "cell_type": "code",
   "execution_count": 11,
   "metadata": {},
   "outputs": [
    {
     "data": {
      "text/html": [
       "<div>\n",
       "<style scoped>\n",
       "    .dataframe tbody tr th:only-of-type {\n",
       "        vertical-align: middle;\n",
       "    }\n",
       "\n",
       "    .dataframe tbody tr th {\n",
       "        vertical-align: top;\n",
       "    }\n",
       "\n",
       "    .dataframe thead th {\n",
       "        text-align: right;\n",
       "    }\n",
       "</style>\n",
       "<table border=\"1\" class=\"dataframe\">\n",
       "  <thead>\n",
       "    <tr style=\"text-align: right;\">\n",
       "      <th></th>\n",
       "      <th>count</th>\n",
       "      <th>mean</th>\n",
       "      <th>std</th>\n",
       "      <th>min</th>\n",
       "      <th>25%</th>\n",
       "      <th>50%</th>\n",
       "      <th>75%</th>\n",
       "      <th>max</th>\n",
       "    </tr>\n",
       "  </thead>\n",
       "  <tbody>\n",
       "    <tr>\n",
       "      <th>target</th>\n",
       "      <td>30557.0</td>\n",
       "      <td>61.148045</td>\n",
       "      <td>46.861309</td>\n",
       "      <td>1.000000</td>\n",
       "      <td>25.000000</td>\n",
       "      <td>50.000000</td>\n",
       "      <td>80.000000</td>\n",
       "      <td>815.000000</td>\n",
       "    </tr>\n",
       "    <tr>\n",
       "      <th>precipitable_water_entire_atmosphere</th>\n",
       "      <td>30557.0</td>\n",
       "      <td>15.302326</td>\n",
       "      <td>10.688573</td>\n",
       "      <td>0.420044</td>\n",
       "      <td>7.666667</td>\n",
       "      <td>12.200000</td>\n",
       "      <td>19.900000</td>\n",
       "      <td>72.599998</td>\n",
       "    </tr>\n",
       "    <tr>\n",
       "      <th>relative_humidity_2m_above_ground</th>\n",
       "      <td>30557.0</td>\n",
       "      <td>70.552747</td>\n",
       "      <td>18.807884</td>\n",
       "      <td>5.128572</td>\n",
       "      <td>58.600002</td>\n",
       "      <td>74.099998</td>\n",
       "      <td>85.450001</td>\n",
       "      <td>100.000000</td>\n",
       "    </tr>\n",
       "    <tr>\n",
       "      <th>specific_humidity_2m_above_ground</th>\n",
       "      <td>30557.0</td>\n",
       "      <td>0.006004</td>\n",
       "      <td>0.003787</td>\n",
       "      <td>0.000139</td>\n",
       "      <td>0.003403</td>\n",
       "      <td>0.004912</td>\n",
       "      <td>0.007562</td>\n",
       "      <td>0.021615</td>\n",
       "    </tr>\n",
       "    <tr>\n",
       "      <th>temperature_2m_above_ground</th>\n",
       "      <td>30557.0</td>\n",
       "      <td>9.321342</td>\n",
       "      <td>9.343226</td>\n",
       "      <td>-34.647879</td>\n",
       "      <td>3.123071</td>\n",
       "      <td>8.478424</td>\n",
       "      <td>16.201563</td>\n",
       "      <td>37.437921</td>\n",
       "    </tr>\n",
       "    <tr>\n",
       "      <th>...</th>\n",
       "      <td>...</td>\n",
       "      <td>...</td>\n",
       "      <td>...</td>\n",
       "      <td>...</td>\n",
       "      <td>...</td>\n",
       "      <td>...</td>\n",
       "      <td>...</td>\n",
       "      <td>...</td>\n",
       "    </tr>\n",
       "    <tr>\n",
       "      <th>L3_CH4_aerosol_optical_depth</th>\n",
       "      <td>5792.0</td>\n",
       "      <td>0.016227</td>\n",
       "      <td>0.027016</td>\n",
       "      <td>0.000000</td>\n",
       "      <td>0.000000</td>\n",
       "      <td>0.000000</td>\n",
       "      <td>0.023829</td>\n",
       "      <td>0.210483</td>\n",
       "    </tr>\n",
       "    <tr>\n",
       "      <th>L3_CH4_sensor_azimuth_angle</th>\n",
       "      <td>5792.0</td>\n",
       "      <td>1.254703</td>\n",
       "      <td>55.101250</td>\n",
       "      <td>-105.367363</td>\n",
       "      <td>0.000000</td>\n",
       "      <td>0.000000</td>\n",
       "      <td>62.245728</td>\n",
       "      <td>77.355232</td>\n",
       "    </tr>\n",
       "    <tr>\n",
       "      <th>L3_CH4_sensor_zenith_angle</th>\n",
       "      <td>5792.0</td>\n",
       "      <td>13.849040</td>\n",
       "      <td>18.004375</td>\n",
       "      <td>0.000000</td>\n",
       "      <td>0.000000</td>\n",
       "      <td>0.000000</td>\n",
       "      <td>27.412303</td>\n",
       "      <td>59.972710</td>\n",
       "    </tr>\n",
       "    <tr>\n",
       "      <th>L3_CH4_solar_azimuth_angle</th>\n",
       "      <td>5792.0</td>\n",
       "      <td>-69.098594</td>\n",
       "      <td>84.702355</td>\n",
       "      <td>-179.947422</td>\n",
       "      <td>-161.726937</td>\n",
       "      <td>0.000000</td>\n",
       "      <td>0.000000</td>\n",
       "      <td>179.813344</td>\n",
       "    </tr>\n",
       "    <tr>\n",
       "      <th>L3_CH4_solar_zenith_angle</th>\n",
       "      <td>5792.0</td>\n",
       "      <td>23.100630</td>\n",
       "      <td>24.786350</td>\n",
       "      <td>0.000000</td>\n",
       "      <td>0.000000</td>\n",
       "      <td>0.000000</td>\n",
       "      <td>47.090635</td>\n",
       "      <td>69.992363</td>\n",
       "    </tr>\n",
       "  </tbody>\n",
       "</table>\n",
       "<p>75 rows × 8 columns</p>\n",
       "</div>"
      ],
      "text/plain": [
       "                                        count       mean        std  \\\n",
       "target                                30557.0  61.148045  46.861309   \n",
       "precipitable_water_entire_atmosphere  30557.0  15.302326  10.688573   \n",
       "relative_humidity_2m_above_ground     30557.0  70.552747  18.807884   \n",
       "specific_humidity_2m_above_ground     30557.0   0.006004   0.003787   \n",
       "temperature_2m_above_ground           30557.0   9.321342   9.343226   \n",
       "...                                       ...        ...        ...   \n",
       "L3_CH4_aerosol_optical_depth           5792.0   0.016227   0.027016   \n",
       "L3_CH4_sensor_azimuth_angle            5792.0   1.254703  55.101250   \n",
       "L3_CH4_sensor_zenith_angle             5792.0  13.849040  18.004375   \n",
       "L3_CH4_solar_azimuth_angle             5792.0 -69.098594  84.702355   \n",
       "L3_CH4_solar_zenith_angle              5792.0  23.100630  24.786350   \n",
       "\n",
       "                                             min         25%        50%  \\\n",
       "target                                  1.000000   25.000000  50.000000   \n",
       "precipitable_water_entire_atmosphere    0.420044    7.666667  12.200000   \n",
       "relative_humidity_2m_above_ground       5.128572   58.600002  74.099998   \n",
       "specific_humidity_2m_above_ground       0.000139    0.003403   0.004912   \n",
       "temperature_2m_above_ground           -34.647879    3.123071   8.478424   \n",
       "...                                          ...         ...        ...   \n",
       "L3_CH4_aerosol_optical_depth            0.000000    0.000000   0.000000   \n",
       "L3_CH4_sensor_azimuth_angle          -105.367363    0.000000   0.000000   \n",
       "L3_CH4_sensor_zenith_angle              0.000000    0.000000   0.000000   \n",
       "L3_CH4_solar_azimuth_angle           -179.947422 -161.726937   0.000000   \n",
       "L3_CH4_solar_zenith_angle               0.000000    0.000000   0.000000   \n",
       "\n",
       "                                            75%         max  \n",
       "target                                80.000000  815.000000  \n",
       "precipitable_water_entire_atmosphere  19.900000   72.599998  \n",
       "relative_humidity_2m_above_ground     85.450001  100.000000  \n",
       "specific_humidity_2m_above_ground      0.007562    0.021615  \n",
       "temperature_2m_above_ground           16.201563   37.437921  \n",
       "...                                         ...         ...  \n",
       "L3_CH4_aerosol_optical_depth           0.023829    0.210483  \n",
       "L3_CH4_sensor_azimuth_angle           62.245728   77.355232  \n",
       "L3_CH4_sensor_zenith_angle            27.412303   59.972710  \n",
       "L3_CH4_solar_azimuth_angle             0.000000  179.813344  \n",
       "L3_CH4_solar_zenith_angle             47.090635   69.992363  \n",
       "\n",
       "[75 rows x 8 columns]"
      ]
     },
     "execution_count": 11,
     "metadata": {},
     "output_type": "execute_result"
    }
   ],
   "source": [
    "train.describe().T"
   ]
  },
  {
   "cell_type": "code",
   "execution_count": 12,
   "metadata": {},
   "outputs": [
    {
     "name": "stdout",
     "output_type": "stream",
     "text": [
      "<class 'pandas.core.frame.DataFrame'>\n",
      "RangeIndex: 30557 entries, 0 to 30556\n",
      "Data columns (total 78 columns):\n",
      " #   Column                                               Non-Null Count  Dtype         \n",
      "---  ------                                               --------------  -----         \n",
      " 0   Place_ID X Date                                      30557 non-null  object        \n",
      " 1   Date                                                 30557 non-null  datetime64[ns]\n",
      " 2   Place_ID                                             30557 non-null  object        \n",
      " 3   target                                               30557 non-null  float64       \n",
      " 4   precipitable_water_entire_atmosphere                 30557 non-null  float64       \n",
      " 5   relative_humidity_2m_above_ground                    30557 non-null  float64       \n",
      " 6   specific_humidity_2m_above_ground                    30557 non-null  float64       \n",
      " 7   temperature_2m_above_ground                          30557 non-null  float64       \n",
      " 8   u_component_of_wind_10m_above_ground                 30557 non-null  float64       \n",
      " 9   v_component_of_wind_10m_above_ground                 30557 non-null  float64       \n",
      " 10  L3_NO2_NO2_column_number_density                     28368 non-null  float64       \n",
      " 11  L3_NO2_NO2_slant_column_number_density               28368 non-null  float64       \n",
      " 12  L3_NO2_absorbing_aerosol_index                       28368 non-null  float64       \n",
      " 13  L3_NO2_cloud_fraction                                28368 non-null  float64       \n",
      " 14  L3_NO2_sensor_altitude                               28368 non-null  float64       \n",
      " 15  L3_NO2_sensor_azimuth_angle                          28367 non-null  float64       \n",
      " 16  L3_NO2_sensor_zenith_angle                           28367 non-null  float64       \n",
      " 17  L3_NO2_solar_azimuth_angle                           28367 non-null  float64       \n",
      " 18  L3_NO2_solar_zenith_angle                            28367 non-null  float64       \n",
      " 19  L3_NO2_stratospheric_NO2_column_number_density       28367 non-null  float64       \n",
      " 20  L3_NO2_tropopause_pressure                           28367 non-null  float64       \n",
      " 21  L3_NO2_tropospheric_NO2_column_number_density        21888 non-null  float64       \n",
      " 22  L3_O3_O3_column_number_density                       30274 non-null  float64       \n",
      " 23  L3_O3_O3_effective_temperature                       30274 non-null  float64       \n",
      " 24  L3_O3_cloud_fraction                                 30274 non-null  float64       \n",
      " 25  L3_O3_sensor_azimuth_angle                           30274 non-null  float64       \n",
      " 26  L3_O3_sensor_zenith_angle                            30274 non-null  float64       \n",
      " 27  L3_O3_solar_azimuth_angle                            30274 non-null  float64       \n",
      " 28  L3_O3_solar_zenith_angle                             30274 non-null  float64       \n",
      " 29  L3_CO_CO_column_number_density                       25134 non-null  float64       \n",
      " 30  L3_CO_H2O_column_number_density                      25134 non-null  float64       \n",
      " 31  L3_CO_cloud_height                                   25134 non-null  float64       \n",
      " 32  L3_CO_sensor_altitude                                25134 non-null  float64       \n",
      " 33  L3_CO_sensor_azimuth_angle                           25134 non-null  float64       \n",
      " 34  L3_CO_sensor_zenith_angle                            25134 non-null  float64       \n",
      " 35  L3_CO_solar_azimuth_angle                            25134 non-null  float64       \n",
      " 36  L3_CO_solar_zenith_angle                             25134 non-null  float64       \n",
      " 37  L3_HCHO_HCHO_slant_column_number_density             23132 non-null  float64       \n",
      " 38  L3_HCHO_cloud_fraction                               23132 non-null  float64       \n",
      " 39  L3_HCHO_sensor_azimuth_angle                         23132 non-null  float64       \n",
      " 40  L3_HCHO_sensor_zenith_angle                          23132 non-null  float64       \n",
      " 41  L3_HCHO_solar_azimuth_angle                          23132 non-null  float64       \n",
      " 42  L3_HCHO_solar_zenith_angle                           23132 non-null  float64       \n",
      " 43  L3_HCHO_tropospheric_HCHO_column_number_density      23132 non-null  float64       \n",
      " 44  L3_HCHO_tropospheric_HCHO_column_number_density_amf  23132 non-null  float64       \n",
      " 45  L3_CLOUD_cloud_base_height                           29035 non-null  float64       \n",
      " 46  L3_CLOUD_cloud_base_pressure                         29035 non-null  float64       \n",
      " 47  L3_CLOUD_cloud_fraction                              30183 non-null  float64       \n",
      " 48  L3_CLOUD_cloud_optical_depth                         29035 non-null  float64       \n",
      " 49  L3_CLOUD_cloud_top_height                            29035 non-null  float64       \n",
      " 50  L3_CLOUD_cloud_top_pressure                          29035 non-null  float64       \n",
      " 51  L3_CLOUD_sensor_azimuth_angle                        30183 non-null  float64       \n",
      " 52  L3_CLOUD_sensor_zenith_angle                         30183 non-null  float64       \n",
      " 53  L3_CLOUD_solar_azimuth_angle                         30183 non-null  float64       \n",
      " 54  L3_CLOUD_solar_zenith_angle                          30183 non-null  float64       \n",
      " 55  L3_CLOUD_surface_albedo                              29035 non-null  float64       \n",
      " 56  L3_AER_AI_absorbing_aerosol_index                    30360 non-null  float64       \n",
      " 57  L3_AER_AI_sensor_altitude                            30360 non-null  float64       \n",
      " 58  L3_AER_AI_sensor_azimuth_angle                       30360 non-null  float64       \n",
      " 59  L3_AER_AI_sensor_zenith_angle                        30360 non-null  float64       \n",
      " 60  L3_AER_AI_solar_azimuth_angle                        30360 non-null  float64       \n",
      " 61  L3_AER_AI_solar_zenith_angle                         30360 non-null  float64       \n",
      " 62  L3_SO2_SO2_column_number_density                     23320 non-null  float64       \n",
      " 63  L3_SO2_SO2_column_number_density_amf                 23320 non-null  float64       \n",
      " 64  L3_SO2_SO2_slant_column_number_density               23320 non-null  float64       \n",
      " 65  L3_SO2_absorbing_aerosol_index                       23249 non-null  float64       \n",
      " 66  L3_SO2_cloud_fraction                                23320 non-null  float64       \n",
      " 67  L3_SO2_sensor_azimuth_angle                          23320 non-null  float64       \n",
      " 68  L3_SO2_sensor_zenith_angle                           23320 non-null  float64       \n",
      " 69  L3_SO2_solar_azimuth_angle                           23320 non-null  float64       \n",
      " 70  L3_SO2_solar_zenith_angle                            23320 non-null  float64       \n",
      " 71  L3_CH4_CH4_column_volume_mixing_ratio_dry_air        5792 non-null   float64       \n",
      " 72  L3_CH4_aerosol_height                                5792 non-null   float64       \n",
      " 73  L3_CH4_aerosol_optical_depth                         5792 non-null   float64       \n",
      " 74  L3_CH4_sensor_azimuth_angle                          5792 non-null   float64       \n",
      " 75  L3_CH4_sensor_zenith_angle                           5792 non-null   float64       \n",
      " 76  L3_CH4_solar_azimuth_angle                           5792 non-null   float64       \n",
      " 77  L3_CH4_solar_zenith_angle                            5792 non-null   float64       \n",
      "dtypes: datetime64[ns](1), float64(75), object(2)\n",
      "memory usage: 18.2+ MB\n"
     ]
    }
   ],
   "source": [
    "train.info()"
   ]
  },
  {
   "attachments": {},
   "cell_type": "markdown",
   "metadata": {},
   "source": [
    "Missing values"
   ]
  },
  {
   "cell_type": "code",
   "execution_count": 13,
   "metadata": {},
   "outputs": [
    {
     "data": {
      "text/plain": [
       "Place_ID X Date                             0\n",
       "Date                                        0\n",
       "Place_ID                                    0\n",
       "target                                      0\n",
       "precipitable_water_entire_atmosphere        0\n",
       "                                        ...  \n",
       "L3_CH4_aerosol_optical_depth            24765\n",
       "L3_CH4_sensor_azimuth_angle             24765\n",
       "L3_CH4_sensor_zenith_angle              24765\n",
       "L3_CH4_solar_azimuth_angle              24765\n",
       "L3_CH4_solar_zenith_angle               24765\n",
       "Length: 78, dtype: int64"
      ]
     },
     "execution_count": 13,
     "metadata": {},
     "output_type": "execute_result"
    }
   ],
   "source": [
    "train.isnull().sum()"
   ]
  },
  {
   "cell_type": "code",
   "execution_count": 16,
   "metadata": {},
   "outputs": [
    {
     "data": {
      "application/javascript": "\n        if (window._pyforest_update_imports_cell) { window._pyforest_update_imports_cell('import pandas as pd'); }\n    ",
      "text/plain": [
       "<IPython.core.display.Javascript object>"
      ]
     },
     "metadata": {},
     "output_type": "display_data"
    },
    {
     "data": {
      "text/html": [
       "<div>\n",
       "<style scoped>\n",
       "    .dataframe tbody tr th:only-of-type {\n",
       "        vertical-align: middle;\n",
       "    }\n",
       "\n",
       "    .dataframe tbody tr th {\n",
       "        vertical-align: top;\n",
       "    }\n",
       "\n",
       "    .dataframe thead th {\n",
       "        text-align: right;\n",
       "    }\n",
       "</style>\n",
       "<table border=\"1\" class=\"dataframe\">\n",
       "  <thead>\n",
       "    <tr style=\"text-align: right;\">\n",
       "      <th></th>\n",
       "      <th>columns</th>\n",
       "      <th>%missing</th>\n",
       "    </tr>\n",
       "  </thead>\n",
       "  <tbody>\n",
       "    <tr>\n",
       "      <th>Place_ID X Date</th>\n",
       "      <td>Place_ID X Date</td>\n",
       "      <td>0.00000</td>\n",
       "    </tr>\n",
       "    <tr>\n",
       "      <th>Date</th>\n",
       "      <td>Date</td>\n",
       "      <td>0.00000</td>\n",
       "    </tr>\n",
       "    <tr>\n",
       "      <th>Place_ID</th>\n",
       "      <td>Place_ID</td>\n",
       "      <td>0.00000</td>\n",
       "    </tr>\n",
       "    <tr>\n",
       "      <th>target</th>\n",
       "      <td>target</td>\n",
       "      <td>0.00000</td>\n",
       "    </tr>\n",
       "    <tr>\n",
       "      <th>precipitable_water_entire_atmosphere</th>\n",
       "      <td>precipitable_water_entire_atmosphere</td>\n",
       "      <td>0.00000</td>\n",
       "    </tr>\n",
       "    <tr>\n",
       "      <th>...</th>\n",
       "      <td>...</td>\n",
       "      <td>...</td>\n",
       "    </tr>\n",
       "    <tr>\n",
       "      <th>L3_CH4_aerosol_optical_depth</th>\n",
       "      <td>L3_CH4_aerosol_optical_depth</td>\n",
       "      <td>81.04526</td>\n",
       "    </tr>\n",
       "    <tr>\n",
       "      <th>L3_CH4_sensor_azimuth_angle</th>\n",
       "      <td>L3_CH4_sensor_azimuth_angle</td>\n",
       "      <td>81.04526</td>\n",
       "    </tr>\n",
       "    <tr>\n",
       "      <th>L3_CH4_sensor_zenith_angle</th>\n",
       "      <td>L3_CH4_sensor_zenith_angle</td>\n",
       "      <td>81.04526</td>\n",
       "    </tr>\n",
       "    <tr>\n",
       "      <th>L3_CH4_solar_azimuth_angle</th>\n",
       "      <td>L3_CH4_solar_azimuth_angle</td>\n",
       "      <td>81.04526</td>\n",
       "    </tr>\n",
       "    <tr>\n",
       "      <th>L3_CH4_solar_zenith_angle</th>\n",
       "      <td>L3_CH4_solar_zenith_angle</td>\n",
       "      <td>81.04526</td>\n",
       "    </tr>\n",
       "  </tbody>\n",
       "</table>\n",
       "<p>78 rows × 2 columns</p>\n",
       "</div>"
      ],
      "text/plain": [
       "                                                                   columns  \\\n",
       "Place_ID X Date                                            Place_ID X Date   \n",
       "Date                                                                  Date   \n",
       "Place_ID                                                          Place_ID   \n",
       "target                                                              target   \n",
       "precipitable_water_entire_atmosphere  precipitable_water_entire_atmosphere   \n",
       "...                                                                    ...   \n",
       "L3_CH4_aerosol_optical_depth                  L3_CH4_aerosol_optical_depth   \n",
       "L3_CH4_sensor_azimuth_angle                    L3_CH4_sensor_azimuth_angle   \n",
       "L3_CH4_sensor_zenith_angle                      L3_CH4_sensor_zenith_angle   \n",
       "L3_CH4_solar_azimuth_angle                      L3_CH4_solar_azimuth_angle   \n",
       "L3_CH4_solar_zenith_angle                        L3_CH4_solar_zenith_angle   \n",
       "\n",
       "                                      %missing  \n",
       "Place_ID X Date                        0.00000  \n",
       "Date                                   0.00000  \n",
       "Place_ID                               0.00000  \n",
       "target                                 0.00000  \n",
       "precipitable_water_entire_atmosphere   0.00000  \n",
       "...                                        ...  \n",
       "L3_CH4_aerosol_optical_depth          81.04526  \n",
       "L3_CH4_sensor_azimuth_angle           81.04526  \n",
       "L3_CH4_sensor_zenith_angle            81.04526  \n",
       "L3_CH4_solar_azimuth_angle            81.04526  \n",
       "L3_CH4_solar_zenith_angle             81.04526  \n",
       "\n",
       "[78 rows x 2 columns]"
      ]
     },
     "execution_count": 16,
     "metadata": {},
     "output_type": "execute_result"
    }
   ],
   "source": [
    "percentage_missing=train.isnull().sum()*100/len(train)\n",
    "missing_df_train=pd.DataFrame({\"columns\":train.columns, \"%missing\":percentage_missing})\n",
    "missing_df_train"
   ]
  },
  {
   "cell_type": "code",
   "execution_count": 15,
   "metadata": {},
   "outputs": [
    {
     "data": {
      "text/plain": [
       "Place_ID X Date                             0\n",
       "Date                                        0\n",
       "Place_ID                                    0\n",
       "precipitable_water_entire_atmosphere        0\n",
       "relative_humidity_2m_above_ground           0\n",
       "                                        ...  \n",
       "L3_CH4_aerosol_optical_depth            13021\n",
       "L3_CH4_sensor_azimuth_angle             13021\n",
       "L3_CH4_sensor_zenith_angle              13021\n",
       "L3_CH4_solar_azimuth_angle              13021\n",
       "L3_CH4_solar_zenith_angle               13021\n",
       "Length: 77, dtype: int64"
      ]
     },
     "execution_count": 15,
     "metadata": {},
     "output_type": "execute_result"
    }
   ],
   "source": [
    "test.isnull().sum()"
   ]
  },
  {
   "cell_type": "code",
   "execution_count": 17,
   "metadata": {},
   "outputs": [
    {
     "data": {
      "application/javascript": "\n        if (window._pyforest_update_imports_cell) { window._pyforest_update_imports_cell('import pandas as pd'); }\n    ",
      "text/plain": [
       "<IPython.core.display.Javascript object>"
      ]
     },
     "metadata": {},
     "output_type": "display_data"
    },
    {
     "data": {
      "text/html": [
       "<div>\n",
       "<style scoped>\n",
       "    .dataframe tbody tr th:only-of-type {\n",
       "        vertical-align: middle;\n",
       "    }\n",
       "\n",
       "    .dataframe tbody tr th {\n",
       "        vertical-align: top;\n",
       "    }\n",
       "\n",
       "    .dataframe thead th {\n",
       "        text-align: right;\n",
       "    }\n",
       "</style>\n",
       "<table border=\"1\" class=\"dataframe\">\n",
       "  <thead>\n",
       "    <tr style=\"text-align: right;\">\n",
       "      <th></th>\n",
       "      <th>columns</th>\n",
       "      <th>%missing</th>\n",
       "    </tr>\n",
       "  </thead>\n",
       "  <tbody>\n",
       "    <tr>\n",
       "      <th>Place_ID X Date</th>\n",
       "      <td>Place_ID X Date</td>\n",
       "      <td>0.00000</td>\n",
       "    </tr>\n",
       "    <tr>\n",
       "      <th>Date</th>\n",
       "      <td>Date</td>\n",
       "      <td>0.00000</td>\n",
       "    </tr>\n",
       "    <tr>\n",
       "      <th>Place_ID</th>\n",
       "      <td>Place_ID</td>\n",
       "      <td>0.00000</td>\n",
       "    </tr>\n",
       "    <tr>\n",
       "      <th>precipitable_water_entire_atmosphere</th>\n",
       "      <td>precipitable_water_entire_atmosphere</td>\n",
       "      <td>0.00000</td>\n",
       "    </tr>\n",
       "    <tr>\n",
       "      <th>relative_humidity_2m_above_ground</th>\n",
       "      <td>relative_humidity_2m_above_ground</td>\n",
       "      <td>0.00000</td>\n",
       "    </tr>\n",
       "    <tr>\n",
       "      <th>...</th>\n",
       "      <td>...</td>\n",
       "      <td>...</td>\n",
       "    </tr>\n",
       "    <tr>\n",
       "      <th>L3_CH4_aerosol_optical_depth</th>\n",
       "      <td>L3_CH4_aerosol_optical_depth</td>\n",
       "      <td>80.69534</td>\n",
       "    </tr>\n",
       "    <tr>\n",
       "      <th>L3_CH4_sensor_azimuth_angle</th>\n",
       "      <td>L3_CH4_sensor_azimuth_angle</td>\n",
       "      <td>80.69534</td>\n",
       "    </tr>\n",
       "    <tr>\n",
       "      <th>L3_CH4_sensor_zenith_angle</th>\n",
       "      <td>L3_CH4_sensor_zenith_angle</td>\n",
       "      <td>80.69534</td>\n",
       "    </tr>\n",
       "    <tr>\n",
       "      <th>L3_CH4_solar_azimuth_angle</th>\n",
       "      <td>L3_CH4_solar_azimuth_angle</td>\n",
       "      <td>80.69534</td>\n",
       "    </tr>\n",
       "    <tr>\n",
       "      <th>L3_CH4_solar_zenith_angle</th>\n",
       "      <td>L3_CH4_solar_zenith_angle</td>\n",
       "      <td>80.69534</td>\n",
       "    </tr>\n",
       "  </tbody>\n",
       "</table>\n",
       "<p>77 rows × 2 columns</p>\n",
       "</div>"
      ],
      "text/plain": [
       "                                                                   columns  \\\n",
       "Place_ID X Date                                            Place_ID X Date   \n",
       "Date                                                                  Date   \n",
       "Place_ID                                                          Place_ID   \n",
       "precipitable_water_entire_atmosphere  precipitable_water_entire_atmosphere   \n",
       "relative_humidity_2m_above_ground        relative_humidity_2m_above_ground   \n",
       "...                                                                    ...   \n",
       "L3_CH4_aerosol_optical_depth                  L3_CH4_aerosol_optical_depth   \n",
       "L3_CH4_sensor_azimuth_angle                    L3_CH4_sensor_azimuth_angle   \n",
       "L3_CH4_sensor_zenith_angle                      L3_CH4_sensor_zenith_angle   \n",
       "L3_CH4_solar_azimuth_angle                      L3_CH4_solar_azimuth_angle   \n",
       "L3_CH4_solar_zenith_angle                        L3_CH4_solar_zenith_angle   \n",
       "\n",
       "                                      %missing  \n",
       "Place_ID X Date                        0.00000  \n",
       "Date                                   0.00000  \n",
       "Place_ID                               0.00000  \n",
       "precipitable_water_entire_atmosphere   0.00000  \n",
       "relative_humidity_2m_above_ground      0.00000  \n",
       "...                                        ...  \n",
       "L3_CH4_aerosol_optical_depth          80.69534  \n",
       "L3_CH4_sensor_azimuth_angle           80.69534  \n",
       "L3_CH4_sensor_zenith_angle            80.69534  \n",
       "L3_CH4_solar_azimuth_angle            80.69534  \n",
       "L3_CH4_solar_zenith_angle             80.69534  \n",
       "\n",
       "[77 rows x 2 columns]"
      ]
     },
     "execution_count": 17,
     "metadata": {},
     "output_type": "execute_result"
    }
   ],
   "source": [
    "percentage_missing = test.isnull().sum()*100/len(test)\n",
    "missing_df_test= pd.DataFrame({\"columns\": test.columns, \"%missing\": percentage_missing})\n",
    "missing_df_test\n"
   ]
  },
  {
   "attachments": {},
   "cell_type": "markdown",
   "metadata": {},
   "source": [
    "### imputing missing values\n",
    "- mean-numerical\n",
    "- mode-categorical\n",
    "- median\n",
    "\n",
    "- high arbitrary value=-99999999\n",
    "- knn imputer \n",
    "- lgbm imputer\n",
    "- iterative\n",
    "\n",
    "### Time series data\n",
    "- leave missing values\n",
    "- ffill()\n",
    "- bfill()"
   ]
  },
  {
   "cell_type": "code",
   "execution_count": 19,
   "metadata": {},
   "outputs": [],
   "source": [
    "col_to_drop=percentage_missing[percentage_missing>60].keys()"
   ]
  },
  {
   "cell_type": "code",
   "execution_count": 20,
   "metadata": {},
   "outputs": [],
   "source": [
    "train=train.drop(col_to_drop, axis=1)\n",
    "test=test.drop(col_to_drop, axis=1)"
   ]
  },
  {
   "cell_type": "code",
   "execution_count": 21,
   "metadata": {},
   "outputs": [
    {
     "data": {
      "text/plain": [
       "((30557, 71), (16136, 70))"
      ]
     },
     "execution_count": 21,
     "metadata": {},
     "output_type": "execute_result"
    }
   ],
   "source": [
    "train.shape, test.shape"
   ]
  },
  {
   "cell_type": "code",
   "execution_count": 22,
   "metadata": {},
   "outputs": [
    {
     "data": {
      "text/plain": [
       "Place_ID X Date                            0\n",
       "Date                                       0\n",
       "Place_ID                                   0\n",
       "target                                     0\n",
       "precipitable_water_entire_atmosphere       0\n",
       "                                        ... \n",
       "L3_SO2_cloud_fraction                   7237\n",
       "L3_SO2_sensor_azimuth_angle             7237\n",
       "L3_SO2_sensor_zenith_angle              7237\n",
       "L3_SO2_solar_azimuth_angle              7237\n",
       "L3_SO2_solar_zenith_angle               7237\n",
       "Length: 71, dtype: int64"
      ]
     },
     "execution_count": 22,
     "metadata": {},
     "output_type": "execute_result"
    }
   ],
   "source": [
    "train.isnull().sum()"
   ]
  },
  {
   "cell_type": "code",
   "execution_count": 23,
   "metadata": {},
   "outputs": [],
   "source": [
    "train=train.ffill()"
   ]
  },
  {
   "cell_type": "code",
   "execution_count": 24,
   "metadata": {},
   "outputs": [
    {
     "data": {
      "text/plain": [
       "Place_ID X Date                            0\n",
       "Date                                       0\n",
       "Place_ID                                   0\n",
       "precipitable_water_entire_atmosphere       0\n",
       "relative_humidity_2m_above_ground          0\n",
       "                                        ... \n",
       "L3_SO2_cloud_fraction                   4173\n",
       "L3_SO2_sensor_azimuth_angle             4173\n",
       "L3_SO2_sensor_zenith_angle              4173\n",
       "L3_SO2_solar_azimuth_angle              4173\n",
       "L3_SO2_solar_zenith_angle               4173\n",
       "Length: 70, dtype: int64"
      ]
     },
     "execution_count": 24,
     "metadata": {},
     "output_type": "execute_result"
    }
   ],
   "source": [
    "test.isnull().sum()"
   ]
  },
  {
   "cell_type": "code",
   "execution_count": 25,
   "metadata": {},
   "outputs": [],
   "source": [
    "test=test.ffill()"
   ]
  },
  {
   "cell_type": "code",
   "execution_count": 27,
   "metadata": {},
   "outputs": [
    {
     "data": {
      "text/plain": [
       "Place_ID X Date                         0\n",
       "Date                                    0\n",
       "Place_ID                                0\n",
       "precipitable_water_entire_atmosphere    0\n",
       "relative_humidity_2m_above_ground       0\n",
       "                                       ..\n",
       "L3_SO2_cloud_fraction                   0\n",
       "L3_SO2_sensor_azimuth_angle             0\n",
       "L3_SO2_sensor_zenith_angle              0\n",
       "L3_SO2_solar_azimuth_angle              0\n",
       "L3_SO2_solar_zenith_angle               0\n",
       "Length: 70, dtype: int64"
      ]
     },
     "execution_count": 27,
     "metadata": {},
     "output_type": "execute_result"
    }
   ],
   "source": [
    "test.isnull().sum()"
   ]
  },
  {
   "attachments": {},
   "cell_type": "markdown",
   "metadata": {},
   "source": [
    "EDA"
   ]
  },
  {
   "attachments": {},
   "cell_type": "markdown",
   "metadata": {},
   "source": [
    "Target Distribution"
   ]
  },
  {
   "cell_type": "code",
   "execution_count": 30,
   "metadata": {},
   "outputs": [
    {
     "data": {
      "application/javascript": "\n        if (window._pyforest_update_imports_cell) { window._pyforest_update_imports_cell('import seaborn as sns\\nimport pandas as pd'); }\n    ",
      "text/plain": [
       "<IPython.core.display.Javascript object>"
      ]
     },
     "metadata": {},
     "output_type": "display_data"
    },
    {
     "data": {
      "image/png": "[encoded data removed]",
      "text/plain": [
       "<Figure size 640x480 with 1 Axes>"
      ]
     },
     "metadata": {},
     "output_type": "display_data"
    }
   ],
   "source": [
    "sns.distplot(train['target']);"
   ]
  },
  {
   "cell_type": "code",
   "execution_count": 31,
   "metadata": {},
   "outputs": [
    {
     "data": {
      "application/javascript": "\n        if (window._pyforest_update_imports_cell) { window._pyforest_update_imports_cell('import seaborn as sns\\nimport pandas as pd'); }\n    ",
      "text/plain": [
       "<IPython.core.display.Javascript object>"
      ]
     },
     "metadata": {},
     "output_type": "display_data"
    },
    {
     "data": {
      "text/plain": [
       "<AxesSubplot: xlabel='target'>"
      ]
     },
     "execution_count": 31,
     "metadata": {},
     "output_type": "execute_result"
    },
    {
     "data": {
      "image/png": "[encoded data removed]",
      "text/plain": [
       "<Figure size 640x480 with 1 Axes>"
      ]
     },
     "metadata": {},
     "output_type": "display_data"
    }
   ],
   "source": [
    "sns.boxplot(train['target']);"
   ]
  },
  {
   "cell_type": "code",
   "execution_count": 33,
   "metadata": {},
   "outputs": [
    {
     "data": {
      "application/javascript": "\n        if (window._pyforest_update_imports_cell) { window._pyforest_update_imports_cell('import numpy as np\\nimport seaborn as sns\\nimport pandas as pd'); }\n    ",
      "text/plain": [
       "<IPython.core.display.Javascript object>"
      ]
     },
     "metadata": {},
     "output_type": "display_data"
    },
    {
     "data": {
      "application/javascript": "\n        if (window._pyforest_update_imports_cell) { window._pyforest_update_imports_cell('import numpy as np\\nimport seaborn as sns\\nimport pandas as pd'); }\n    ",
      "text/plain": [
       "<IPython.core.display.Javascript object>"
      ]
     },
     "metadata": {},
     "output_type": "display_data"
    },
    {
     "data": {
      "image/png": "[encoded data removed]",
      "text/plain": [
       "<Figure size 640x480 with 1 Axes>"
      ]
     },
     "metadata": {},
     "output_type": "display_data"
    }
   ],
   "source": [
    "sns.distplot(np.log1p(train['target']));\n"
   ]
  },
  {
   "cell_type": "code",
   "execution_count": 34,
   "metadata": {},
   "outputs": [
    {
     "name": "stdout",
     "output_type": "stream",
     "text": [
      "['Place_ID']\n",
      "['precipitable_water_entire_atmosphere', 'relative_humidity_2m_above_ground', 'specific_humidity_2m_above_ground', 'temperature_2m_above_ground', 'u_component_of_wind_10m_above_ground', 'v_component_of_wind_10m_above_ground', 'L3_NO2_NO2_column_number_density', 'L3_NO2_NO2_slant_column_number_density', 'L3_NO2_absorbing_aerosol_index', 'L3_NO2_cloud_fraction', 'L3_NO2_sensor_altitude', 'L3_NO2_sensor_azimuth_angle', 'L3_NO2_sensor_zenith_angle', 'L3_NO2_solar_azimuth_angle', 'L3_NO2_solar_zenith_angle', 'L3_NO2_stratospheric_NO2_column_number_density', 'L3_NO2_tropopause_pressure', 'L3_NO2_tropospheric_NO2_column_number_density', 'L3_O3_O3_column_number_density', 'L3_O3_O3_effective_temperature', 'L3_O3_cloud_fraction', 'L3_O3_sensor_azimuth_angle', 'L3_O3_sensor_zenith_angle', 'L3_O3_solar_azimuth_angle', 'L3_O3_solar_zenith_angle', 'L3_CO_CO_column_number_density', 'L3_CO_H2O_column_number_density', 'L3_CO_cloud_height', 'L3_CO_sensor_altitude', 'L3_CO_sensor_azimuth_angle', 'L3_CO_sensor_zenith_angle', 'L3_CO_solar_azimuth_angle', 'L3_CO_solar_zenith_angle', 'L3_HCHO_HCHO_slant_column_number_density', 'L3_HCHO_cloud_fraction', 'L3_HCHO_sensor_azimuth_angle', 'L3_HCHO_sensor_zenith_angle', 'L3_HCHO_solar_azimuth_angle', 'L3_HCHO_solar_zenith_angle', 'L3_HCHO_tropospheric_HCHO_column_number_density', 'L3_HCHO_tropospheric_HCHO_column_number_density_amf', 'L3_CLOUD_cloud_base_height', 'L3_CLOUD_cloud_base_pressure', 'L3_CLOUD_cloud_fraction', 'L3_CLOUD_cloud_optical_depth', 'L3_CLOUD_cloud_top_height', 'L3_CLOUD_cloud_top_pressure', 'L3_CLOUD_sensor_azimuth_angle', 'L3_CLOUD_sensor_zenith_angle', 'L3_CLOUD_solar_azimuth_angle', 'L3_CLOUD_solar_zenith_angle', 'L3_CLOUD_surface_albedo', 'L3_AER_AI_absorbing_aerosol_index', 'L3_AER_AI_sensor_altitude', 'L3_AER_AI_sensor_azimuth_angle', 'L3_AER_AI_sensor_zenith_angle', 'L3_AER_AI_solar_azimuth_angle', 'L3_AER_AI_solar_zenith_angle', 'L3_SO2_SO2_column_number_density', 'L3_SO2_SO2_column_number_density_amf', 'L3_SO2_SO2_slant_column_number_density', 'L3_SO2_absorbing_aerosol_index', 'L3_SO2_cloud_fraction', 'L3_SO2_sensor_azimuth_angle', 'L3_SO2_sensor_zenith_angle', 'L3_SO2_solar_azimuth_angle', 'L3_SO2_solar_zenith_angle']\n",
      "['Date']\n"
     ]
    }
   ],
   "source": [
    "cat_columns=[col for col in train.select_dtypes('object').columns if col not in ['Place_ID X Date']]\n",
    "num_columns=[col for col in train.select_dtypes(['int','float']).columns if col not in ['target']]\n",
    "date_columns=[col for col in train.select_dtypes('datetime').columns]\n",
    "print(cat_columns)\n",
    "print(num_columns)\n",
    "print(date_columns)"
   ]
  },
  {
   "cell_type": "code",
   "execution_count": 39,
   "metadata": {},
   "outputs": [
    {
     "data": {
      "text/plain": [
       "0    010Q650\n",
       "1    R8CIARR\n",
       "2    1X421B8\n",
       "3    D1OBVR6\n",
       "4    R0N919B\n",
       "Name: Place_ID, dtype: object"
      ]
     },
     "execution_count": 39,
     "metadata": {},
     "output_type": "execute_result"
    }
   ],
   "source": [
    "train.Place_ID.head()"
   ]
  },
  {
   "cell_type": "code",
   "execution_count": 40,
   "metadata": {},
   "outputs": [
    {
     "data": {
      "text/plain": [
       "340"
      ]
     },
     "execution_count": 40,
     "metadata": {},
     "output_type": "execute_result"
    }
   ],
   "source": [
    "train.Place_ID.nunique()"
   ]
  },
  {
   "attachments": {},
   "cell_type": "markdown",
   "metadata": {},
   "source": [
    "Preprocessing categorical data\n",
    "- label encoding- high cardinality\n",
    "- one hot encoding\n",
    "- get_dummies"
   ]
  },
  {
   "cell_type": "code",
   "execution_count": 41,
   "metadata": {},
   "outputs": [],
   "source": [
    "from sklearn.preprocessing import LabelEncoder\n",
    "\n",
    "le=LabelEncoder()\n",
    "for col in cat_columns:\n",
    "    train[col]=le.fit_transform(train[col])\n",
    "    test[col]=le.fit_transform(test[col])"
   ]
  },
  {
   "cell_type": "code",
   "execution_count": 43,
   "metadata": {},
   "outputs": [
    {
     "data": {
      "text/plain": [
       "0      0\n",
       "1    260\n",
       "2     25\n",
       "3    130\n",
       "4    259\n",
       "Name: Place_ID, dtype: int32"
      ]
     },
     "execution_count": 43,
     "metadata": {},
     "output_type": "execute_result"
    }
   ],
   "source": [
    "train['Place_ID'].head()"
   ]
  },
  {
   "attachments": {},
   "cell_type": "markdown",
   "metadata": {},
   "source": [
    "Date engineered features"
   ]
  },
  {
   "cell_type": "code",
   "execution_count": 44,
   "metadata": {},
   "outputs": [
    {
     "data": {
      "text/plain": [
       "0   2020-01-02\n",
       "1   2020-01-02\n",
       "2   2020-01-02\n",
       "3   2020-01-02\n",
       "4   2020-01-02\n",
       "Name: Date, dtype: datetime64[ns]"
      ]
     },
     "execution_count": 44,
     "metadata": {},
     "output_type": "execute_result"
    }
   ],
   "source": [
    "train.Date.head()"
   ]
  },
  {
   "cell_type": "code",
   "execution_count": 45,
   "metadata": {},
   "outputs": [],
   "source": [
    "for data in [train, test]:\n",
    "    for col in date_columns:\n",
    "        data[f'{col}_year']=data[col].dt.year\n",
    "        data[f'{col}_month']=data[col].dt.month\n",
    "        data[f'{col}_day']=data[col].dt.day"
   ]
  },
  {
   "cell_type": "code",
   "execution_count": 46,
   "metadata": {},
   "outputs": [
    {
     "data": {
      "text/html": [
       "<div>\n",
       "<style scoped>\n",
       "    .dataframe tbody tr th:only-of-type {\n",
       "        vertical-align: middle;\n",
       "    }\n",
       "\n",
       "    .dataframe tbody tr th {\n",
       "        vertical-align: top;\n",
       "    }\n",
       "\n",
       "    .dataframe thead th {\n",
       "        text-align: right;\n",
       "    }\n",
       "</style>\n",
       "<table border=\"1\" class=\"dataframe\">\n",
       "  <thead>\n",
       "    <tr style=\"text-align: right;\">\n",
       "      <th></th>\n",
       "      <th>Place_ID X Date</th>\n",
       "      <th>Date</th>\n",
       "      <th>Place_ID</th>\n",
       "      <th>target</th>\n",
       "      <th>precipitable_water_entire_atmosphere</th>\n",
       "      <th>relative_humidity_2m_above_ground</th>\n",
       "      <th>specific_humidity_2m_above_ground</th>\n",
       "      <th>temperature_2m_above_ground</th>\n",
       "      <th>u_component_of_wind_10m_above_ground</th>\n",
       "      <th>v_component_of_wind_10m_above_ground</th>\n",
       "      <th>...</th>\n",
       "      <th>L3_SO2_SO2_slant_column_number_density</th>\n",
       "      <th>L3_SO2_absorbing_aerosol_index</th>\n",
       "      <th>L3_SO2_cloud_fraction</th>\n",
       "      <th>L3_SO2_sensor_azimuth_angle</th>\n",
       "      <th>L3_SO2_sensor_zenith_angle</th>\n",
       "      <th>L3_SO2_solar_azimuth_angle</th>\n",
       "      <th>L3_SO2_solar_zenith_angle</th>\n",
       "      <th>Date_year</th>\n",
       "      <th>Date_month</th>\n",
       "      <th>Date_day</th>\n",
       "    </tr>\n",
       "  </thead>\n",
       "  <tbody>\n",
       "    <tr>\n",
       "      <th>0</th>\n",
       "      <td>010Q650 X 2020-01-02</td>\n",
       "      <td>2020-01-02</td>\n",
       "      <td>0</td>\n",
       "      <td>38.0</td>\n",
       "      <td>11.000000</td>\n",
       "      <td>60.200001</td>\n",
       "      <td>0.008040</td>\n",
       "      <td>18.516840</td>\n",
       "      <td>1.996377</td>\n",
       "      <td>-1.227395</td>\n",
       "      <td>...</td>\n",
       "      <td>-0.000040</td>\n",
       "      <td>-1.861476</td>\n",
       "      <td>0.000000</td>\n",
       "      <td>76.536426</td>\n",
       "      <td>38.593017</td>\n",
       "      <td>-61.752587</td>\n",
       "      <td>22.363665</td>\n",
       "      <td>2020</td>\n",
       "      <td>1</td>\n",
       "      <td>2</td>\n",
       "    </tr>\n",
       "    <tr>\n",
       "      <th>1</th>\n",
       "      <td>R8CIARR X 2020-01-02</td>\n",
       "      <td>2020-01-02</td>\n",
       "      <td>260</td>\n",
       "      <td>210.0</td>\n",
       "      <td>7.600000</td>\n",
       "      <td>92.900002</td>\n",
       "      <td>0.003340</td>\n",
       "      <td>-0.923163</td>\n",
       "      <td>1.186377</td>\n",
       "      <td>0.442605</td>\n",
       "      <td>...</td>\n",
       "      <td>0.000150</td>\n",
       "      <td>-2.049941</td>\n",
       "      <td>0.245479</td>\n",
       "      <td>-101.813305</td>\n",
       "      <td>17.114866</td>\n",
       "      <td>-164.471834</td>\n",
       "      <td>68.996603</td>\n",
       "      <td>2020</td>\n",
       "      <td>1</td>\n",
       "      <td>2</td>\n",
       "    </tr>\n",
       "    <tr>\n",
       "      <th>2</th>\n",
       "      <td>1X421B8 X 2020-01-02</td>\n",
       "      <td>2020-01-02</td>\n",
       "      <td>25</td>\n",
       "      <td>69.0</td>\n",
       "      <td>30.350000</td>\n",
       "      <td>97.450001</td>\n",
       "      <td>0.014210</td>\n",
       "      <td>18.806818</td>\n",
       "      <td>-0.948623</td>\n",
       "      <td>-0.937395</td>\n",
       "      <td>...</td>\n",
       "      <td>0.000018</td>\n",
       "      <td>-2.568235</td>\n",
       "      <td>0.293534</td>\n",
       "      <td>-101.966000</td>\n",
       "      <td>9.270202</td>\n",
       "      <td>-150.037324</td>\n",
       "      <td>40.684037</td>\n",
       "      <td>2020</td>\n",
       "      <td>1</td>\n",
       "      <td>2</td>\n",
       "    </tr>\n",
       "    <tr>\n",
       "      <th>3</th>\n",
       "      <td>D1OBVR6 X 2020-01-02</td>\n",
       "      <td>2020-01-02</td>\n",
       "      <td>130</td>\n",
       "      <td>33.0</td>\n",
       "      <td>24.733333</td>\n",
       "      <td>49.883334</td>\n",
       "      <td>0.008353</td>\n",
       "      <td>19.320164</td>\n",
       "      <td>0.799710</td>\n",
       "      <td>3.212605</td>\n",
       "      <td>...</td>\n",
       "      <td>0.000043</td>\n",
       "      <td>-1.541329</td>\n",
       "      <td>0.006099</td>\n",
       "      <td>-102.531399</td>\n",
       "      <td>5.505470</td>\n",
       "      <td>-156.125827</td>\n",
       "      <td>47.288412</td>\n",
       "      <td>2020</td>\n",
       "      <td>1</td>\n",
       "      <td>2</td>\n",
       "    </tr>\n",
       "    <tr>\n",
       "      <th>4</th>\n",
       "      <td>R0N919B X 2020-01-02</td>\n",
       "      <td>2020-01-02</td>\n",
       "      <td>259</td>\n",
       "      <td>57.0</td>\n",
       "      <td>27.760000</td>\n",
       "      <td>52.140000</td>\n",
       "      <td>0.008930</td>\n",
       "      <td>22.560834</td>\n",
       "      <td>-1.481623</td>\n",
       "      <td>-1.181395</td>\n",
       "      <td>...</td>\n",
       "      <td>0.000172</td>\n",
       "      <td>0.876192</td>\n",
       "      <td>0.175392</td>\n",
       "      <td>-106.659424</td>\n",
       "      <td>35.838265</td>\n",
       "      <td>-67.567808</td>\n",
       "      <td>36.387296</td>\n",
       "      <td>2020</td>\n",
       "      <td>1</td>\n",
       "      <td>2</td>\n",
       "    </tr>\n",
       "  </tbody>\n",
       "</table>\n",
       "<p>5 rows × 74 columns</p>\n",
       "</div>"
      ],
      "text/plain": [
       "        Place_ID X Date       Date  Place_ID  target  \\\n",
       "0  010Q650 X 2020-01-02 2020-01-02         0    38.0   \n",
       "1  R8CIARR X 2020-01-02 2020-01-02       260   210.0   \n",
       "2  1X421B8 X 2020-01-02 2020-01-02        25    69.0   \n",
       "3  D1OBVR6 X 2020-01-02 2020-01-02       130    33.0   \n",
       "4  R0N919B X 2020-01-02 2020-01-02       259    57.0   \n",
       "\n",
       "   precipitable_water_entire_atmosphere  relative_humidity_2m_above_ground  \\\n",
       "0                             11.000000                          60.200001   \n",
       "1                              7.600000                          92.900002   \n",
       "2                             30.350000                          97.450001   \n",
       "3                             24.733333                          49.883334   \n",
       "4                             27.760000                          52.140000   \n",
       "\n",
       "   specific_humidity_2m_above_ground  temperature_2m_above_ground  \\\n",
       "0                           0.008040                    18.516840   \n",
       "1                           0.003340                    -0.923163   \n",
       "2                           0.014210                    18.806818   \n",
       "3                           0.008353                    19.320164   \n",
       "4                           0.008930                    22.560834   \n",
       "\n",
       "   u_component_of_wind_10m_above_ground  v_component_of_wind_10m_above_ground  \\\n",
       "0                              1.996377                             -1.227395   \n",
       "1                              1.186377                              0.442605   \n",
       "2                             -0.948623                             -0.937395   \n",
       "3                              0.799710                              3.212605   \n",
       "4                             -1.481623                             -1.181395   \n",
       "\n",
       "   ...  L3_SO2_SO2_slant_column_number_density  \\\n",
       "0  ...                               -0.000040   \n",
       "1  ...                                0.000150   \n",
       "2  ...                                0.000018   \n",
       "3  ...                                0.000043   \n",
       "4  ...                                0.000172   \n",
       "\n",
       "   L3_SO2_absorbing_aerosol_index  L3_SO2_cloud_fraction  \\\n",
       "0                       -1.861476               0.000000   \n",
       "1                       -2.049941               0.245479   \n",
       "2                       -2.568235               0.293534   \n",
       "3                       -1.541329               0.006099   \n",
       "4                        0.876192               0.175392   \n",
       "\n",
       "   L3_SO2_sensor_azimuth_angle  L3_SO2_sensor_zenith_angle  \\\n",
       "0                    76.536426                   38.593017   \n",
       "1                  -101.813305                   17.114866   \n",
       "2                  -101.966000                    9.270202   \n",
       "3                  -102.531399                    5.505470   \n",
       "4                  -106.659424                   35.838265   \n",
       "\n",
       "   L3_SO2_solar_azimuth_angle  L3_SO2_solar_zenith_angle  Date_year  \\\n",
       "0                  -61.752587                  22.363665       2020   \n",
       "1                 -164.471834                  68.996603       2020   \n",
       "2                 -150.037324                  40.684037       2020   \n",
       "3                 -156.125827                  47.288412       2020   \n",
       "4                  -67.567808                  36.387296       2020   \n",
       "\n",
       "   Date_month  Date_day  \n",
       "0           1         2  \n",
       "1           1         2  \n",
       "2           1         2  \n",
       "3           1         2  \n",
       "4           1         2  \n",
       "\n",
       "[5 rows x 74 columns]"
      ]
     },
     "execution_count": 46,
     "metadata": {},
     "output_type": "execute_result"
    }
   ],
   "source": [
    "train.head()"
   ]
  },
  {
   "cell_type": "code",
   "execution_count": 47,
   "metadata": {},
   "outputs": [
    {
     "data": {
      "text/plain": [
       "3    10023\n",
       "1     9717\n",
       "2     9507\n",
       "4     1310\n",
       "Name: Date_month, dtype: int64"
      ]
     },
     "execution_count": 47,
     "metadata": {},
     "output_type": "execute_result"
    }
   ],
   "source": [
    "train['Date_month'].value_counts()"
   ]
  },
  {
   "cell_type": "code",
   "execution_count": 48,
   "metadata": {},
   "outputs": [
    {
     "data": {
      "text/plain": [
       "3    5400\n",
       "1    5083\n",
       "2    4981\n",
       "4     672\n",
       "Name: Date_month, dtype: int64"
      ]
     },
     "execution_count": 48,
     "metadata": {},
     "output_type": "execute_result"
    }
   ],
   "source": [
    "test['Date_month'].value_counts()"
   ]
  },
  {
   "attachments": {},
   "cell_type": "markdown",
   "metadata": {},
   "source": [
    "Train_Test_split"
   ]
  },
  {
   "cell_type": "code",
   "execution_count": 49,
   "metadata": {},
   "outputs": [],
   "source": [
    "X=train.drop(columns=['target','Place_ID X Date'])\n",
    "y=train['target']\n",
    "test=test[X.columns]"
   ]
  },
  {
   "attachments": {},
   "cell_type": "markdown",
   "metadata": {},
   "source": [
    "Using catboost as the baseline"
   ]
  },
  {
   "cell_type": "code",
   "execution_count": 50,
   "metadata": {},
   "outputs": [],
   "source": [
    "model=catt.CatBoostRegressor(random_state=42)\n",
    "X_train, X_valid, y_train, y_valid=train_test_split(X,y, random_state=42)"
   ]
  },
  {
   "cell_type": "code",
   "execution_count": 51,
   "metadata": {},
   "outputs": [
    {
     "name": "stdout",
     "output_type": "stream",
     "text": [
      "61.284849674913815 60.73768324607331\n"
     ]
    }
   ],
   "source": [
    "print(y_train.mean(), y_valid.mean())"
   ]
  },
  {
   "cell_type": "code",
   "execution_count": 52,
   "metadata": {},
   "outputs": [
    {
     "name": "stdout",
     "output_type": "stream",
     "text": [
      "Learning rate set to 0.083261\n",
      "0:\tlearn: 45.8817507\ttest: 45.5598519\tbest: 45.5598519 (0)\ttotal: 3.19s\tremaining: 53m 3s\n",
      "200:\tlearn: 27.8471598\ttest: 30.6198782\tbest: 30.6198782 (200)\ttotal: 9.71s\tremaining: 38.6s\n",
      "400:\tlearn: 23.8722149\ttest: 28.5977557\tbest: 28.5977557 (400)\ttotal: 17.7s\tremaining: 26.4s\n",
      "600:\tlearn: 21.2498457\ttest: 27.6259271\tbest: 27.6259271 (600)\ttotal: 25.9s\tremaining: 17.2s\n",
      "800:\tlearn: 19.2735477\ttest: 27.0108693\tbest: 27.0108693 (800)\ttotal: 34.4s\tremaining: 8.55s\n",
      "999:\tlearn: 17.7636357\ttest: 26.6282372\tbest: 26.6254607 (997)\ttotal: 41.5s\tremaining: 0us\n",
      "\n",
      "bestTest = 26.62546067\n",
      "bestIteration = 997\n",
      "\n",
      "Shrink model to first 998 iterations.\n"
     ]
    },
    {
     "data": {
      "text/plain": [
       "<catboost.core.CatBoostRegressor at 0x21d09f341c0>"
      ]
     },
     "execution_count": 52,
     "metadata": {},
     "output_type": "execute_result"
    }
   ],
   "source": [
    "model.fit(X_train, y_train, eval_set=[(X_valid, y_valid)], verbose=200)"
   ]
  },
  {
   "cell_type": "code",
   "execution_count": 53,
   "metadata": {},
   "outputs": [],
   "source": [
    "preds=model.predict(test)"
   ]
  },
  {
   "cell_type": "code",
   "execution_count": 54,
   "metadata": {},
   "outputs": [
    {
     "data": {
      "text/plain": [
       "array([ 46.46568467, 178.10888841,  61.35115143, ...,  28.22747466,\n",
       "        38.52748265,  45.42831898])"
      ]
     },
     "execution_count": 54,
     "metadata": {},
     "output_type": "execute_result"
    }
   ],
   "source": [
    "preds"
   ]
  },
  {
   "cell_type": "code",
   "execution_count": 56,
   "metadata": {},
   "outputs": [
    {
     "data": {
      "application/javascript": "\n        if (window._pyforest_update_imports_cell) { window._pyforest_update_imports_cell('import numpy as np\\nimport seaborn as sns\\nimport pandas as pd'); }\n    ",
      "text/plain": [
       "<IPython.core.display.Javascript object>"
      ]
     },
     "metadata": {},
     "output_type": "display_data"
    },
    {
     "data": {
      "text/html": [
       "<div>\n",
       "<style scoped>\n",
       "    .dataframe tbody tr th:only-of-type {\n",
       "        vertical-align: middle;\n",
       "    }\n",
       "\n",
       "    .dataframe tbody tr th {\n",
       "        vertical-align: top;\n",
       "    }\n",
       "\n",
       "    .dataframe thead th {\n",
       "        text-align: right;\n",
       "    }\n",
       "</style>\n",
       "<table border=\"1\" class=\"dataframe\">\n",
       "  <thead>\n",
       "    <tr style=\"text-align: right;\">\n",
       "      <th></th>\n",
       "      <th>Place_ID X Date</th>\n",
       "      <th>target</th>\n",
       "    </tr>\n",
       "  </thead>\n",
       "  <tbody>\n",
       "    <tr>\n",
       "      <th>0</th>\n",
       "      <td>0OS9LVX X 2020-01-02</td>\n",
       "      <td>0</td>\n",
       "    </tr>\n",
       "    <tr>\n",
       "      <th>1</th>\n",
       "      <td>0OS9LVX X 2020-01-03</td>\n",
       "      <td>0</td>\n",
       "    </tr>\n",
       "    <tr>\n",
       "      <th>2</th>\n",
       "      <td>0OS9LVX X 2020-01-04</td>\n",
       "      <td>0</td>\n",
       "    </tr>\n",
       "    <tr>\n",
       "      <th>3</th>\n",
       "      <td>0OS9LVX X 2020-01-05</td>\n",
       "      <td>0</td>\n",
       "    </tr>\n",
       "    <tr>\n",
       "      <th>4</th>\n",
       "      <td>0OS9LVX X 2020-01-06</td>\n",
       "      <td>0</td>\n",
       "    </tr>\n",
       "  </tbody>\n",
       "</table>\n",
       "</div>"
      ],
      "text/plain": [
       "        Place_ID X Date  target\n",
       "0  0OS9LVX X 2020-01-02       0\n",
       "1  0OS9LVX X 2020-01-03       0\n",
       "2  0OS9LVX X 2020-01-04       0\n",
       "3  0OS9LVX X 2020-01-05       0\n",
       "4  0OS9LVX X 2020-01-06       0"
      ]
     },
     "execution_count": 56,
     "metadata": {},
     "output_type": "execute_result"
    }
   ],
   "source": [
    "submission=pd.read_csv('Datasets/SampleSubmission.csv')\n",
    "submission.head()"
   ]
  },
  {
   "cell_type": "code",
   "execution_count": null,
   "metadata": {},
   "outputs": [],
   "source": []
  },
  {
   "cell_type": "code",
   "execution_count": null,
   "metadata": {},
   "outputs": [],
   "source": []
  }
 ],
 "metadata": {
  "kernelspec": {
   "display_name": "Python 3",
   "language": "python",
   "name": "python3"
  },
  "language_info": {
   "codemirror_mode": {
    "name": "ipython",
    "version": 3
   },
   "file_extension": ".py",
   "mimetype": "text/x-python",
   "name": "python",
   "nbconvert_exporter": "python",
   "pygments_lexer": "ipython3",
   "version": "3.9.16"
  },
  "orig_nbformat": 4
 },
 "nbformat": 4,
 "nbformat_minor": 2
}
